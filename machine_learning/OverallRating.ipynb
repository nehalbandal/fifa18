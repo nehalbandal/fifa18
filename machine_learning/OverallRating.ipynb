{
 "cells": [
  {
   "cell_type": "code",
   "execution_count": 28,
   "metadata": {},
   "outputs": [],
   "source": [
    "import numpy as np\n",
    "import pandas as pd"
   ]
  },
  {
   "cell_type": "code",
   "execution_count": 2,
   "metadata": {},
   "outputs": [
    {
     "data": {
      "text/html": [
       "<div>\n",
       "<style scoped>\n",
       "    .dataframe tbody tr th:only-of-type {\n",
       "        vertical-align: middle;\n",
       "    }\n",
       "\n",
       "    .dataframe tbody tr th {\n",
       "        vertical-align: top;\n",
       "    }\n",
       "\n",
       "    .dataframe thead th {\n",
       "        text-align: right;\n",
       "    }\n",
       "</style>\n",
       "<table border=\"1\" class=\"dataframe\">\n",
       "  <thead>\n",
       "    <tr style=\"text-align: right;\">\n",
       "      <th></th>\n",
       "      <th>Name</th>\n",
       "      <th>Age</th>\n",
       "      <th>Nationality</th>\n",
       "      <th>Overall</th>\n",
       "      <th>Potential</th>\n",
       "      <th>Club</th>\n",
       "      <th>Value</th>\n",
       "      <th>Wage</th>\n",
       "      <th>Height_cm</th>\n",
       "      <th>Weight_kg</th>\n",
       "      <th>...</th>\n",
       "      <th>RS</th>\n",
       "      <th>RW</th>\n",
       "      <th>RWB</th>\n",
       "      <th>ST</th>\n",
       "      <th>Continent</th>\n",
       "      <th>FieldPositions</th>\n",
       "      <th>Atk</th>\n",
       "      <th>Mid</th>\n",
       "      <th>Def</th>\n",
       "      <th>Position</th>\n",
       "    </tr>\n",
       "  </thead>\n",
       "  <tbody>\n",
       "    <tr>\n",
       "      <th>0</th>\n",
       "      <td>Cristiano Ronaldo</td>\n",
       "      <td>32</td>\n",
       "      <td>Portugal</td>\n",
       "      <td>94</td>\n",
       "      <td>94</td>\n",
       "      <td>Real Madrid CF</td>\n",
       "      <td>95500000.0</td>\n",
       "      <td>565000.0</td>\n",
       "      <td>185</td>\n",
       "      <td>80</td>\n",
       "      <td>...</td>\n",
       "      <td>92.00000</td>\n",
       "      <td>91.000000</td>\n",
       "      <td>66.000000</td>\n",
       "      <td>92.00000</td>\n",
       "      <td>Europe</td>\n",
       "      <td>Attack</td>\n",
       "      <td>91</td>\n",
       "      <td>79</td>\n",
       "      <td>59</td>\n",
       "      <td>ST</td>\n",
       "    </tr>\n",
       "    <tr>\n",
       "      <th>1</th>\n",
       "      <td>L. Messi</td>\n",
       "      <td>30</td>\n",
       "      <td>Argentina</td>\n",
       "      <td>93</td>\n",
       "      <td>93</td>\n",
       "      <td>FC Barcelona</td>\n",
       "      <td>105000000.0</td>\n",
       "      <td>565000.0</td>\n",
       "      <td>170</td>\n",
       "      <td>72</td>\n",
       "      <td>...</td>\n",
       "      <td>88.00000</td>\n",
       "      <td>91.000000</td>\n",
       "      <td>62.000000</td>\n",
       "      <td>88.00000</td>\n",
       "      <td>South America</td>\n",
       "      <td>Attack</td>\n",
       "      <td>90</td>\n",
       "      <td>80</td>\n",
       "      <td>53</td>\n",
       "      <td>RW</td>\n",
       "    </tr>\n",
       "    <tr>\n",
       "      <th>2</th>\n",
       "      <td>Neymar</td>\n",
       "      <td>25</td>\n",
       "      <td>Brazil</td>\n",
       "      <td>92</td>\n",
       "      <td>94</td>\n",
       "      <td>Paris Saint-Germain</td>\n",
       "      <td>123000000.0</td>\n",
       "      <td>280000.0</td>\n",
       "      <td>175</td>\n",
       "      <td>68</td>\n",
       "      <td>...</td>\n",
       "      <td>84.00000</td>\n",
       "      <td>89.000000</td>\n",
       "      <td>64.000000</td>\n",
       "      <td>84.00000</td>\n",
       "      <td>South America</td>\n",
       "      <td>Attack</td>\n",
       "      <td>86</td>\n",
       "      <td>77</td>\n",
       "      <td>54</td>\n",
       "      <td>LW</td>\n",
       "    </tr>\n",
       "    <tr>\n",
       "      <th>3</th>\n",
       "      <td>L. Suarez</td>\n",
       "      <td>30</td>\n",
       "      <td>Uruguay</td>\n",
       "      <td>92</td>\n",
       "      <td>92</td>\n",
       "      <td>FC Barcelona</td>\n",
       "      <td>97000000.0</td>\n",
       "      <td>510000.0</td>\n",
       "      <td>182</td>\n",
       "      <td>86</td>\n",
       "      <td>...</td>\n",
       "      <td>88.00000</td>\n",
       "      <td>87.000000</td>\n",
       "      <td>68.000000</td>\n",
       "      <td>88.00000</td>\n",
       "      <td>South America</td>\n",
       "      <td>Attack</td>\n",
       "      <td>87</td>\n",
       "      <td>78</td>\n",
       "      <td>62</td>\n",
       "      <td>ST</td>\n",
       "    </tr>\n",
       "    <tr>\n",
       "      <th>4</th>\n",
       "      <td>M. Neuer</td>\n",
       "      <td>31</td>\n",
       "      <td>Germany</td>\n",
       "      <td>92</td>\n",
       "      <td>92</td>\n",
       "      <td>FC Bayern Munich</td>\n",
       "      <td>61000000.0</td>\n",
       "      <td>230000.0</td>\n",
       "      <td>193</td>\n",
       "      <td>92</td>\n",
       "      <td>...</td>\n",
       "      <td>58.20405</td>\n",
       "      <td>59.359265</td>\n",
       "      <td>57.698721</td>\n",
       "      <td>58.20405</td>\n",
       "      <td>Europe</td>\n",
       "      <td>Attack</td>\n",
       "      <td>58</td>\n",
       "      <td>58</td>\n",
       "      <td>56</td>\n",
       "      <td>GK</td>\n",
       "    </tr>\n",
       "  </tbody>\n",
       "</table>\n",
       "<p>5 rows × 78 columns</p>\n",
       "</div>"
      ],
      "text/plain": [
       "                Name  Age Nationality  Overall  Potential  \\\n",
       "0  Cristiano Ronaldo   32    Portugal       94         94   \n",
       "1           L. Messi   30   Argentina       93         93   \n",
       "2             Neymar   25      Brazil       92         94   \n",
       "3          L. Suarez   30     Uruguay       92         92   \n",
       "4           M. Neuer   31     Germany       92         92   \n",
       "\n",
       "                  Club        Value      Wage  Height_cm  Weight_kg  ...  \\\n",
       "0       Real Madrid CF   95500000.0  565000.0        185         80  ...   \n",
       "1         FC Barcelona  105000000.0  565000.0        170         72  ...   \n",
       "2  Paris Saint-Germain  123000000.0  280000.0        175         68  ...   \n",
       "3         FC Barcelona   97000000.0  510000.0        182         86  ...   \n",
       "4     FC Bayern Munich   61000000.0  230000.0        193         92  ...   \n",
       "\n",
       "         RS         RW        RWB        ST      Continent  FieldPositions  \\\n",
       "0  92.00000  91.000000  66.000000  92.00000         Europe          Attack   \n",
       "1  88.00000  91.000000  62.000000  88.00000  South America          Attack   \n",
       "2  84.00000  89.000000  64.000000  84.00000  South America          Attack   \n",
       "3  88.00000  87.000000  68.000000  88.00000  South America          Attack   \n",
       "4  58.20405  59.359265  57.698721  58.20405         Europe          Attack   \n",
       "\n",
       "   Atk  Mid  Def  Position  \n",
       "0   91   79   59        ST  \n",
       "1   90   80   53        RW  \n",
       "2   86   77   54        LW  \n",
       "3   87   78   62        ST  \n",
       "4   58   58   56        GK  \n",
       "\n",
       "[5 rows x 78 columns]"
      ]
     },
     "execution_count": 2,
     "metadata": {},
     "output_type": "execute_result"
    }
   ],
   "source": [
    "df = pd.read_csv(\"Datasets/clean_fifa18.csv\")\n",
    "df.head()"
   ]
  },
  {
   "cell_type": "code",
   "execution_count": 5,
   "metadata": {},
   "outputs": [],
   "source": [
    "columns = ['Age','Acceleration', 'Aggression', 'Agility', 'Balance', 'Ball control', 'Composure', 'Crossing',\n",
    "           'Curve', 'Dribbling', 'Finishing', 'Free kick accuracy', 'GK diving', 'GK handling',\n",
    "           'GK kicking', 'GK positioning', 'GK reflexes', 'Heading accuracy', 'Interceptions', \n",
    "           'Jumping', 'Long passing', 'Long shots',\t'Marking', 'Penalties', 'Positioning', \n",
    "           'Reactions', 'Short passing', 'Shot power', 'Sliding tackle', 'Sprint speed',\t'Stamina',\n",
    "           'Standing tackle', 'Strength', 'Vision', 'Volleys','Overall']\n",
    "\n",
    "df = pd.DataFrame(df, columns=columns)\n",
    "X = df.drop(\"Overall\", axis=True)\n",
    "y = df[\"Overall\"].copy()"
   ]
  },
  {
   "cell_type": "code",
   "execution_count": 10,
   "metadata": {},
   "outputs": [
    {
     "data": {
      "text/plain": [
       "((14384, 35), (3597, 35))"
      ]
     },
     "execution_count": 10,
     "metadata": {},
     "output_type": "execute_result"
    }
   ],
   "source": [
    "from sklearn.model_selection import train_test_split\n",
    "x_train, x_test, y_train, y_test = train_test_split(X, y, test_size=0.2, random_state=42)\n",
    "x_train.shape, x_test.shape"
   ]
  },
  {
   "cell_type": "code",
   "execution_count": 26,
   "metadata": {},
   "outputs": [],
   "source": [
    "from sklearn.model_selection import GridSearchCV\n",
    "from sklearn.model_selection import cross_val_score\n",
    "\n",
    "def cv_results(model, X, y):\n",
    "    scores = cross_val_score(model, X, y, cv = 5, scoring=\"neg_mean_squared_error\", n_jobs=-1)\n",
    "    rmse_scores = np.sqrt(-scores)\n",
    "    rmse_scores = np.round(rmse_scores, 2)\n",
    "    print('CV Scores: ', rmse_scores)\n",
    "    print('rmse: {},  S.D.:{} '.format(np.mean(rmse_scores), np.std(rmse_scores)))"
   ]
  },
  {
   "cell_type": "code",
   "execution_count": 13,
   "metadata": {},
   "outputs": [
    {
     "data": {
      "text/plain": [
       "GridSearchCV(cv=5, error_score=nan,\n",
       "             estimator=RandomForestRegressor(bootstrap=True, ccp_alpha=0.0,\n",
       "                                             criterion='mse', max_depth=None,\n",
       "                                             max_features='auto',\n",
       "                                             max_leaf_nodes=None,\n",
       "                                             max_samples=None,\n",
       "                                             min_impurity_decrease=0.0,\n",
       "                                             min_impurity_split=None,\n",
       "                                             min_samples_leaf=1,\n",
       "                                             min_samples_split=2,\n",
       "                                             min_weight_fraction_leaf=0.0,\n",
       "                                             n_estimators=100, n_jobs=-1,\n",
       "                                             oob_score=False, random_state=42,\n",
       "                                             verbose=0, warm_start=False),\n",
       "             iid='deprecated', n_jobs=-1,\n",
       "             param_grid=[{'max_depth': [8, 16, 24],\n",
       "                          'n_estimators': [100, 200, 300]}],\n",
       "             pre_dispatch='2*n_jobs', refit=True, return_train_score=True,\n",
       "             scoring='neg_mean_squared_error', verbose=0)"
      ]
     },
     "execution_count": 13,
     "metadata": {},
     "output_type": "execute_result"
    }
   ],
   "source": [
    "from sklearn.ensemble import RandomForestRegressor\n",
    "\n",
    "rf_grid_parm=[{'n_estimators':[100, 200, 300], 'max_depth':[8, 16, 24]}]\n",
    "rf_grid_search = GridSearchCV(RandomForestRegressor(random_state=42, n_jobs=-1), \n",
    "                              rf_grid_parm, cv=5, scoring=\"neg_mean_squared_error\", return_train_score=True, n_jobs=-1)\n",
    "rf_grid_search.fit(x_train, y_train)"
   ]
  },
  {
   "cell_type": "code",
   "execution_count": 14,
   "metadata": {},
   "outputs": [
    {
     "data": {
      "text/plain": [
       "({'max_depth': 24, 'n_estimators': 300}, 1.9677200496729186)"
      ]
     },
     "execution_count": 14,
     "metadata": {},
     "output_type": "execute_result"
    }
   ],
   "source": [
    "rf_grid_search.best_params_, -rf_grid_search.best_score_"
   ]
  },
  {
   "cell_type": "code",
   "execution_count": 15,
   "metadata": {},
   "outputs": [
    {
     "data": {
      "text/plain": [
       "RandomForestRegressor(bootstrap=True, ccp_alpha=0.0, criterion='mse',\n",
       "                      max_depth=24, max_features='auto', max_leaf_nodes=None,\n",
       "                      max_samples=None, min_impurity_decrease=0.0,\n",
       "                      min_impurity_split=None, min_samples_leaf=1,\n",
       "                      min_samples_split=2, min_weight_fraction_leaf=0.0,\n",
       "                      n_estimators=300, n_jobs=-1, oob_score=False,\n",
       "                      random_state=42, verbose=0, warm_start=False)"
      ]
     },
     "execution_count": 15,
     "metadata": {},
     "output_type": "execute_result"
    }
   ],
   "source": [
    "best_forest_reg = rf_grid_search.best_estimator_\n",
    "best_forest_reg"
   ]
  },
  {
   "cell_type": "code",
   "execution_count": 16,
   "metadata": {},
   "outputs": [
    {
     "data": {
      "text/plain": [
       "[('Reactions', 0.6661712491008235),\n",
       " ('Ball control', 0.07902454717301723),\n",
       " ('Standing tackle', 0.041271237107203984),\n",
       " ('Marking', 0.033895931925873854),\n",
       " ('GK positioning', 0.016313110755370116),\n",
       " ('GK diving', 0.015580049214622051),\n",
       " ('Composure', 0.015553692541627143),\n",
       " ('Positioning', 0.011906081214023917),\n",
       " ('GK reflexes', 0.010865347528235028),\n",
       " ('Heading accuracy', 0.010512656577005335),\n",
       " ('Age', 0.009252584880509496),\n",
       " ('GK handling', 0.00893879685384652),\n",
       " ('Finishing', 0.008060501337852632),\n",
       " ('Short passing', 0.006637639941266197),\n",
       " ('Crossing', 0.006093097598394463),\n",
       " ('Interceptions', 0.005944899192756001),\n",
       " ('Sliding tackle', 0.005877748037749478),\n",
       " ('Dribbling', 0.005774073657371888),\n",
       " ('Stamina', 0.004711408108870309),\n",
       " ('Shot power', 0.004604047632259242),\n",
       " ('Sprint speed', 0.004297312368757145),\n",
       " ('Strength', 0.0036719589156561246),\n",
       " ('Acceleration', 0.0033751099080805798),\n",
       " ('Aggression', 0.002941180147310276),\n",
       " ('Long shots', 0.0028399432384606407),\n",
       " ('Vision', 0.002306671153945795),\n",
       " ('Long passing', 0.0020760502989942966),\n",
       " ('Jumping', 0.0020366789804377875),\n",
       " ('Agility', 0.0015067807654161128),\n",
       " ('Penalties', 0.0014416701115982796),\n",
       " ('Volleys', 0.0014393003077002686),\n",
       " ('Curve', 0.0013137702624747625),\n",
       " ('Balance', 0.0012820092406929896),\n",
       " ('GK kicking', 0.0012777938481933005),\n",
       " ('Free kick accuracy', 0.0012050700736033703)]"
      ]
     },
     "execution_count": 16,
     "metadata": {},
     "output_type": "execute_result"
    }
   ],
   "source": [
    "feature_imp = [ col for col in zip(columns, best_forest_reg.feature_importances_)]\n",
    "feature_imp.sort(key=lambda x:x[1], reverse=True)\n",
    "feature_imp"
   ]
  },
  {
   "cell_type": "code",
   "execution_count": 29,
   "metadata": {},
   "outputs": [
    {
     "name": "stdout",
     "output_type": "stream",
     "text": [
      "CV Scores:  [1.7  1.72 1.67 1.64 1.55]\n",
      "rmse: 1.656,  S.D.:0.05953150426454885 \n"
     ]
    }
   ],
   "source": [
    "cv_results(best_forest_reg, x_test, y_test)"
   ]
  },
  {
   "cell_type": "code",
   "execution_count": 19,
   "metadata": {},
   "outputs": [
    {
     "data": {
      "text/plain": [
       "GridSearchCV(cv=5, error_score=nan,\n",
       "             estimator=XGBRegressor(base_score=0.5, booster='gbtree',\n",
       "                                    colsample_bylevel=1, colsample_bynode=1,\n",
       "                                    colsample_bytree=1, gamma=0,\n",
       "                                    importance_type='gain', learning_rate=0.1,\n",
       "                                    max_delta_step=0, max_depth=3,\n",
       "                                    min_child_weight=1, missing=None,\n",
       "                                    n_estimators=100, n_jobs=-1, nthread=None,\n",
       "                                    objective='reg:squarederror',\n",
       "                                    random_state=42, reg_alpha=0, reg_lambda=1,\n",
       "                                    scale_pos_weight=1, seed=None, silent=None,\n",
       "                                    subsample=1, verbosity=1),\n",
       "             iid='deprecated', n_jobs=-1,\n",
       "             param_grid=[{'max_depth': [8, 12, 16],\n",
       "                          'n_estimators': [50, 150, 300]}],\n",
       "             pre_dispatch='2*n_jobs', refit=True, return_train_score=True,\n",
       "             scoring='neg_mean_squared_error', verbose=0)"
      ]
     },
     "execution_count": 19,
     "metadata": {},
     "output_type": "execute_result"
    }
   ],
   "source": [
    "from xgboost import XGBRegressor\n",
    "\n",
    "xgb_grid_parm=[{'n_estimators':[50, 150, 300], 'max_depth':[8, 12, 16]}]\n",
    "xgb_grid_search = GridSearchCV(XGBRegressor(objective='reg:squarederror', learning_rate=0.1, n_jobs=-1, random_state=42), \n",
    "                               xgb_grid_parm, cv=5, scoring=\"neg_mean_squared_error\", return_train_score=True, n_jobs=-1)\n",
    "xgb_grid_search.fit(x_train, y_train)"
   ]
  },
  {
   "cell_type": "code",
   "execution_count": 20,
   "metadata": {},
   "outputs": [
    {
     "data": {
      "text/plain": [
       "({'max_depth': 8, 'n_estimators': 300}, 1.1793248664677791)"
      ]
     },
     "execution_count": 20,
     "metadata": {},
     "output_type": "execute_result"
    }
   ],
   "source": [
    "xgb_grid_search.best_params_, -xgb_grid_search.best_score_"
   ]
  },
  {
   "cell_type": "code",
   "execution_count": 21,
   "metadata": {},
   "outputs": [
    {
     "data": {
      "text/plain": [
       "XGBRegressor(base_score=0.5, booster='gbtree', colsample_bylevel=1,\n",
       "             colsample_bynode=1, colsample_bytree=1, gamma=0,\n",
       "             importance_type='gain', learning_rate=0.1, max_delta_step=0,\n",
       "             max_depth=8, min_child_weight=1, missing=None, n_estimators=300,\n",
       "             n_jobs=-1, nthread=None, objective='reg:squarederror',\n",
       "             random_state=42, reg_alpha=0, reg_lambda=1, scale_pos_weight=1,\n",
       "             seed=None, silent=None, subsample=1, verbosity=1)"
      ]
     },
     "execution_count": 21,
     "metadata": {},
     "output_type": "execute_result"
    }
   ],
   "source": [
    "best_xgb_reg = xgb_grid_search.best_estimator_\n",
    "best_xgb_reg"
   ]
  },
  {
   "cell_type": "code",
   "execution_count": 22,
   "metadata": {},
   "outputs": [
    {
     "data": {
      "text/plain": [
       "[('Reactions', 0.54808146),\n",
       " ('Composure', 0.059436966),\n",
       " ('Short passing', 0.04758273),\n",
       " ('Ball control', 0.046574604),\n",
       " ('Standing tackle', 0.033853028),\n",
       " ('Marking', 0.027569791),\n",
       " ('GK positioning', 0.02616392),\n",
       " ('Heading accuracy', 0.024192471),\n",
       " ('Sliding tackle', 0.020523261),\n",
       " ('GK diving', 0.019943161),\n",
       " ('GK handling', 0.018225001),\n",
       " ('GK reflexes', 0.017667912),\n",
       " ('Dribbling', 0.015156828),\n",
       " ('Sprint speed', 0.012356945),\n",
       " ('Crossing', 0.0091408985),\n",
       " ('Positioning', 0.009069782),\n",
       " ('Interceptions', 0.008742967),\n",
       " ('Finishing', 0.008640404),\n",
       " ('Strength', 0.0086384425),\n",
       " ('Shot power', 0.007229518),\n",
       " ('Stamina', 0.0072103557),\n",
       " ('Age', 0.0043569403),\n",
       " ('Acceleration', 0.00308806),\n",
       " ('Long shots', 0.0027603956),\n",
       " ('Vision', 0.0026855657),\n",
       " ('Jumping', 0.0019018641),\n",
       " ('Long passing', 0.0017663072),\n",
       " ('GK kicking', 0.0016112288),\n",
       " ('Aggression', 0.0013377392),\n",
       " ('Volleys', 0.0009136426),\n",
       " ('Penalties', 0.0007880709),\n",
       " ('Curve', 0.00073065714),\n",
       " ('Free kick accuracy', 0.00070236804),\n",
       " ('Agility', 0.00068682106),\n",
       " ('Balance', 0.0006698791)]"
      ]
     },
     "execution_count": 22,
     "metadata": {},
     "output_type": "execute_result"
    }
   ],
   "source": [
    "feature_imp = [ col for col in zip(columns, best_xgb_reg.feature_importances_)]\n",
    "feature_imp.sort(key=lambda x:x[1], reverse=True)\n",
    "feature_imp"
   ]
  },
  {
   "cell_type": "code",
   "execution_count": 30,
   "metadata": {},
   "outputs": [
    {
     "name": "stdout",
     "output_type": "stream",
     "text": [
      "CV Scores:  [1.25 1.33 1.33 1.29 1.23]\n",
      "rmse: 1.286,  S.D.:0.04079215610874232 \n"
     ]
    }
   ],
   "source": [
    "cv_results(best_xgb_reg, x_test, y_test)"
   ]
  },
  {
   "cell_type": "code",
   "execution_count": 23,
   "metadata": {},
   "outputs": [],
   "source": [
    "import joblib"
   ]
  },
  {
   "cell_type": "code",
   "execution_count": 24,
   "metadata": {},
   "outputs": [
    {
     "data": {
      "text/plain": [
       "['overall.pkl']"
      ]
     },
     "execution_count": 24,
     "metadata": {},
     "output_type": "execute_result"
    }
   ],
   "source": [
    "joblib.dump(best_xgb_reg, \"models/overall.pkl\")"
   ]
  },
  {
   "cell_type": "code",
   "execution_count": null,
   "metadata": {},
   "outputs": [],
   "source": []
  }
 ],
 "metadata": {
  "kernelspec": {
   "display_name": "Python 3",
   "language": "python",
   "name": "python3"
  },
  "language_info": {
   "codemirror_mode": {
    "name": "ipython",
    "version": 3
   },
   "file_extension": ".py",
   "mimetype": "text/x-python",
   "name": "python",
   "nbconvert_exporter": "python",
   "pygments_lexer": "ipython3",
   "version": "3.7.6"
  }
 },
 "nbformat": 4,
 "nbformat_minor": 4
}
