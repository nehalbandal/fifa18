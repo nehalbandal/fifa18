{
 "cells": [
  {
   "cell_type": "code",
   "execution_count": 4,
   "metadata": {},
   "outputs": [],
   "source": [
    "import numpy as np\n",
    "import pandas as pd"
   ]
  },
  {
   "cell_type": "code",
   "execution_count": 5,
   "metadata": {},
   "outputs": [
    {
     "data": {
      "text/html": [
       "<div>\n",
       "<style scoped>\n",
       "    .dataframe tbody tr th:only-of-type {\n",
       "        vertical-align: middle;\n",
       "    }\n",
       "\n",
       "    .dataframe tbody tr th {\n",
       "        vertical-align: top;\n",
       "    }\n",
       "\n",
       "    .dataframe thead th {\n",
       "        text-align: right;\n",
       "    }\n",
       "</style>\n",
       "<table border=\"1\" class=\"dataframe\">\n",
       "  <thead>\n",
       "    <tr style=\"text-align: right;\">\n",
       "      <th></th>\n",
       "      <th>Name</th>\n",
       "      <th>Age</th>\n",
       "      <th>Nationality</th>\n",
       "      <th>Overall</th>\n",
       "      <th>Potential</th>\n",
       "      <th>Club</th>\n",
       "      <th>Value</th>\n",
       "      <th>Wage</th>\n",
       "      <th>Height_cm</th>\n",
       "      <th>Weight_kg</th>\n",
       "      <th>...</th>\n",
       "      <th>RS</th>\n",
       "      <th>RW</th>\n",
       "      <th>RWB</th>\n",
       "      <th>ST</th>\n",
       "      <th>Continent</th>\n",
       "      <th>FieldPositions</th>\n",
       "      <th>Atk</th>\n",
       "      <th>Mid</th>\n",
       "      <th>Def</th>\n",
       "      <th>Position</th>\n",
       "    </tr>\n",
       "  </thead>\n",
       "  <tbody>\n",
       "    <tr>\n",
       "      <th>0</th>\n",
       "      <td>Cristiano Ronaldo</td>\n",
       "      <td>32</td>\n",
       "      <td>Portugal</td>\n",
       "      <td>94</td>\n",
       "      <td>94</td>\n",
       "      <td>Real Madrid CF</td>\n",
       "      <td>95500000.0</td>\n",
       "      <td>565000.0</td>\n",
       "      <td>185</td>\n",
       "      <td>80</td>\n",
       "      <td>...</td>\n",
       "      <td>92.00000</td>\n",
       "      <td>91.000000</td>\n",
       "      <td>66.000000</td>\n",
       "      <td>92.00000</td>\n",
       "      <td>Europe</td>\n",
       "      <td>Attack</td>\n",
       "      <td>91</td>\n",
       "      <td>79</td>\n",
       "      <td>59</td>\n",
       "      <td>ST</td>\n",
       "    </tr>\n",
       "    <tr>\n",
       "      <th>1</th>\n",
       "      <td>L. Messi</td>\n",
       "      <td>30</td>\n",
       "      <td>Argentina</td>\n",
       "      <td>93</td>\n",
       "      <td>93</td>\n",
       "      <td>FC Barcelona</td>\n",
       "      <td>105000000.0</td>\n",
       "      <td>565000.0</td>\n",
       "      <td>170</td>\n",
       "      <td>72</td>\n",
       "      <td>...</td>\n",
       "      <td>88.00000</td>\n",
       "      <td>91.000000</td>\n",
       "      <td>62.000000</td>\n",
       "      <td>88.00000</td>\n",
       "      <td>South America</td>\n",
       "      <td>Attack</td>\n",
       "      <td>90</td>\n",
       "      <td>80</td>\n",
       "      <td>53</td>\n",
       "      <td>RW</td>\n",
       "    </tr>\n",
       "    <tr>\n",
       "      <th>2</th>\n",
       "      <td>Neymar</td>\n",
       "      <td>25</td>\n",
       "      <td>Brazil</td>\n",
       "      <td>92</td>\n",
       "      <td>94</td>\n",
       "      <td>Paris Saint-Germain</td>\n",
       "      <td>123000000.0</td>\n",
       "      <td>280000.0</td>\n",
       "      <td>175</td>\n",
       "      <td>68</td>\n",
       "      <td>...</td>\n",
       "      <td>84.00000</td>\n",
       "      <td>89.000000</td>\n",
       "      <td>64.000000</td>\n",
       "      <td>84.00000</td>\n",
       "      <td>South America</td>\n",
       "      <td>Attack</td>\n",
       "      <td>86</td>\n",
       "      <td>77</td>\n",
       "      <td>54</td>\n",
       "      <td>LW</td>\n",
       "    </tr>\n",
       "    <tr>\n",
       "      <th>3</th>\n",
       "      <td>L. Suarez</td>\n",
       "      <td>30</td>\n",
       "      <td>Uruguay</td>\n",
       "      <td>92</td>\n",
       "      <td>92</td>\n",
       "      <td>FC Barcelona</td>\n",
       "      <td>97000000.0</td>\n",
       "      <td>510000.0</td>\n",
       "      <td>182</td>\n",
       "      <td>86</td>\n",
       "      <td>...</td>\n",
       "      <td>88.00000</td>\n",
       "      <td>87.000000</td>\n",
       "      <td>68.000000</td>\n",
       "      <td>88.00000</td>\n",
       "      <td>South America</td>\n",
       "      <td>Attack</td>\n",
       "      <td>87</td>\n",
       "      <td>78</td>\n",
       "      <td>62</td>\n",
       "      <td>ST</td>\n",
       "    </tr>\n",
       "    <tr>\n",
       "      <th>4</th>\n",
       "      <td>M. Neuer</td>\n",
       "      <td>31</td>\n",
       "      <td>Germany</td>\n",
       "      <td>92</td>\n",
       "      <td>92</td>\n",
       "      <td>FC Bayern Munich</td>\n",
       "      <td>61000000.0</td>\n",
       "      <td>230000.0</td>\n",
       "      <td>193</td>\n",
       "      <td>92</td>\n",
       "      <td>...</td>\n",
       "      <td>58.20405</td>\n",
       "      <td>59.359265</td>\n",
       "      <td>57.698721</td>\n",
       "      <td>58.20405</td>\n",
       "      <td>Europe</td>\n",
       "      <td>Attack</td>\n",
       "      <td>58</td>\n",
       "      <td>58</td>\n",
       "      <td>56</td>\n",
       "      <td>GK</td>\n",
       "    </tr>\n",
       "  </tbody>\n",
       "</table>\n",
       "<p>5 rows × 78 columns</p>\n",
       "</div>"
      ],
      "text/plain": [
       "                Name  Age Nationality  Overall  Potential  \\\n",
       "0  Cristiano Ronaldo   32    Portugal       94         94   \n",
       "1           L. Messi   30   Argentina       93         93   \n",
       "2             Neymar   25      Brazil       92         94   \n",
       "3          L. Suarez   30     Uruguay       92         92   \n",
       "4           M. Neuer   31     Germany       92         92   \n",
       "\n",
       "                  Club        Value      Wage  Height_cm  Weight_kg  ...  \\\n",
       "0       Real Madrid CF   95500000.0  565000.0        185         80  ...   \n",
       "1         FC Barcelona  105000000.0  565000.0        170         72  ...   \n",
       "2  Paris Saint-Germain  123000000.0  280000.0        175         68  ...   \n",
       "3         FC Barcelona   97000000.0  510000.0        182         86  ...   \n",
       "4     FC Bayern Munich   61000000.0  230000.0        193         92  ...   \n",
       "\n",
       "         RS         RW        RWB        ST      Continent  FieldPositions  \\\n",
       "0  92.00000  91.000000  66.000000  92.00000         Europe          Attack   \n",
       "1  88.00000  91.000000  62.000000  88.00000  South America          Attack   \n",
       "2  84.00000  89.000000  64.000000  84.00000  South America          Attack   \n",
       "3  88.00000  87.000000  68.000000  88.00000  South America          Attack   \n",
       "4  58.20405  59.359265  57.698721  58.20405         Europe          Attack   \n",
       "\n",
       "   Atk  Mid  Def  Position  \n",
       "0   91   79   59        ST  \n",
       "1   90   80   53        RW  \n",
       "2   86   77   54        LW  \n",
       "3   87   78   62        ST  \n",
       "4   58   58   56        GK  \n",
       "\n",
       "[5 rows x 78 columns]"
      ]
     },
     "execution_count": 5,
     "metadata": {},
     "output_type": "execute_result"
    }
   ],
   "source": [
    "df = pd.read_csv(\"Datasets/clean_fifa18.csv\")\n",
    "df.head()"
   ]
  },
  {
   "cell_type": "code",
   "execution_count": 6,
   "metadata": {},
   "outputs": [],
   "source": [
    "columns = ['Acceleration', 'Aggression', 'Agility', 'Balance', 'Ball control', 'Composure', 'Crossing',\n",
    "           'Curve', 'Dribbling', 'Finishing', 'Free kick accuracy', 'GK diving', 'Heading accuracy', 'Interceptions', \n",
    "           'Jumping', 'Long passing', 'Long shots',\t'Marking', 'Penalties', 'Positioning', \n",
    "           'Reactions', 'Short passing', 'Shot power', 'Sliding tackle', 'Sprint speed',\t'Stamina',\n",
    "           'Standing tackle', 'Strength', 'Vision', 'Volleys','FieldPositions']\n",
    "\n",
    "df = pd.DataFrame(df, columns=columns)\n",
    "X = df.drop(\"FieldPositions\", axis=True)\n",
    "y = df[\"FieldPositions\"].copy()"
   ]
  },
  {
   "cell_type": "code",
   "execution_count": 7,
   "metadata": {},
   "outputs": [
    {
     "data": {
      "text/plain": [
       "((14384, 30), (3597, 30))"
      ]
     },
     "execution_count": 7,
     "metadata": {},
     "output_type": "execute_result"
    }
   ],
   "source": [
    "from sklearn.model_selection import train_test_split\n",
    "\n",
    "x_train, x_test, y_train, y_test = train_test_split(X, y, test_size=0.2, random_state=42)\n",
    "x_train.shape, x_test.shape"
   ]
  },
  {
   "cell_type": "code",
   "execution_count": 8,
   "metadata": {},
   "outputs": [],
   "source": [
    "from sklearn.model_selection import GridSearchCV\n",
    "from sklearn.model_selection import cross_val_score"
   ]
  },
  {
   "cell_type": "code",
   "execution_count": 9,
   "metadata": {},
   "outputs": [],
   "source": [
    "def grid_search(model, grid_param):\n",
    "    print(\"Obtaining Best Model for {}\".format(model.__class__.__name__))\n",
    "    grid_search = GridSearchCV(model, grid_param, cv=5, scoring='accuracy', return_train_score=True, n_jobs=-1)\n",
    "    grid_search.fit(x_train, y_train)\n",
    "    print(\"Best Parameters: \", grid_search.best_params_)\n",
    "    print(\"Best Score: \", grid_search.best_score_*100)\n",
    "        \n",
    "    return grid_search.best_estimator_\n",
    "\n",
    "def cv_results(model, X, y):\n",
    "    scores = cross_val_score(model, X, y, cv = 5, scoring=\"accuracy\", n_jobs=-1)*100\n",
    "    acc_scores = np.round(scores, 2)\n",
    "    print('CV Scores: ', acc_scores)\n",
    "    print('Mean Accuracy: {},  S.D.:{} '.format(np.mean(acc_scores), np.std(acc_scores)))"
   ]
  },
  {
   "cell_type": "code",
   "execution_count": 10,
   "metadata": {},
   "outputs": [
    {
     "name": "stdout",
     "output_type": "stream",
     "text": [
      "Obtaining Best Model for LogisticRegression\n",
      "Best Parameters:  {'C': 10, 'penalty': 'l2'}\n",
      "Best Score:  98.21326447393673\n"
     ]
    }
   ],
   "source": [
    "from sklearn.linear_model import LogisticRegression\n",
    "\n",
    "logistic_clf = LogisticRegression(penalty='l2', random_state=42, n_jobs=-1)\n",
    "logistic_param_grid = [{'C':[0.1, 1, 10], 'penalty':['l1', 'l2']}]\n",
    "best_logistic_clf = grid_search(logistic_clf, logistic_param_grid)"
   ]
  },
  {
   "cell_type": "code",
   "execution_count": 26,
   "metadata": {},
   "outputs": [
    {
     "name": "stdout",
     "output_type": "stream",
     "text": [
      "CV Scores:  [97.36 97.36 97.77 97.91 98.89]\n",
      "Mean Accuracy: 97.85799999999999,  S.D.:0.5606210841557785 \n"
     ]
    }
   ],
   "source": [
    "cv_results(best_logistic_clf, x_test, y_test)"
   ]
  },
  {
   "cell_type": "code",
   "execution_count": 33,
   "metadata": {},
   "outputs": [
    {
     "name": "stdout",
     "output_type": "stream",
     "text": [
      "Obtaining Best Model for RandomForestClassifier\n",
      "Best Parameters:  {'max_depth': 16, 'max_features': 'auto', 'n_estimators': 100}\n",
      "Best Score:  95.97467420620015\n"
     ]
    }
   ],
   "source": [
    "from sklearn.ensemble import RandomForestClassifier\n",
    "\n",
    "forest_clf = RandomForestClassifier(max_features='auto', random_state=42, n_jobs=-1)\n",
    "forest_param_grid = [{'n_estimators':[50, 100, 200], 'max_depth':[8, 12, 16]}]\n",
    "best_forest_clf = grid_search(forest_clf, forest_param_grid)"
   ]
  },
  {
   "cell_type": "code",
   "execution_count": 34,
   "metadata": {},
   "outputs": [
    {
     "name": "stdout",
     "output_type": "stream",
     "text": [
      "CV Scores:  [94.17 94.58 92.35 94.85 95.41]\n",
      "Mean Accuracy: 94.272,  S.D.:1.0419673699305565 \n"
     ]
    }
   ],
   "source": [
    "cv_results(best_forest_clf, x_test, y_test)"
   ]
  },
  {
   "cell_type": "code",
   "execution_count": 38,
   "metadata": {},
   "outputs": [
    {
     "name": "stdout",
     "output_type": "stream",
     "text": [
      "Obtaining Best Model for XGBClassifier\n",
      "Best Parameters:  {'max_depth': 3, 'n_estimators': 300}\n",
      "Best Score:  97.05923145681327\n"
     ]
    }
   ],
   "source": [
    "from xgboost import XGBClassifier\n",
    "\n",
    "xgb_clf = XGBClassifier(objective=\"multi:softmax\", learning_rate=0.1, n_jobs=-1, random_state=42)\n",
    "xgb_param_grid=[{'n_estimators':[100, 200, 300], 'max_depth':[3, 8, 12]}]\n",
    "best_xgb_clf = grid_search(xgb_clf, xgb_param_grid)"
   ]
  },
  {
   "cell_type": "code",
   "execution_count": 39,
   "metadata": {},
   "outputs": [
    {
     "name": "stdout",
     "output_type": "stream",
     "text": [
      "CV Scores:  [96.67 95.56 96.24 96.11 96.38]\n",
      "Mean Accuracy: 96.19200000000001,  S.D.:0.36668242390384537 \n"
     ]
    }
   ],
   "source": [
    "cv_results(best_xgb_clf, x_test, y_test)"
   ]
  },
  {
   "cell_type": "code",
   "execution_count": 11,
   "metadata": {},
   "outputs": [],
   "source": [
    "import joblib"
   ]
  },
  {
   "cell_type": "code",
   "execution_count": 13,
   "metadata": {},
   "outputs": [
    {
     "data": {
      "text/plain": [
       "['models/field_position.pkl']"
      ]
     },
     "execution_count": 13,
     "metadata": {},
     "output_type": "execute_result"
    }
   ],
   "source": [
    "joblib.dump(best_logistic_clf, \"models/field_position.pkl\")"
   ]
  },
  {
   "cell_type": "code",
   "execution_count": null,
   "metadata": {},
   "outputs": [],
   "source": []
  }
 ],
 "metadata": {
  "kernelspec": {
   "display_name": "Python 3",
   "language": "python",
   "name": "python3"
  },
  "language_info": {
   "codemirror_mode": {
    "name": "ipython",
    "version": 3
   },
   "file_extension": ".py",
   "mimetype": "text/x-python",
   "name": "python",
   "nbconvert_exporter": "python",
   "pygments_lexer": "ipython3",
   "version": "3.7.6"
  }
 },
 "nbformat": 4,
 "nbformat_minor": 4
}
